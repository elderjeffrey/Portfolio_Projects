{
 "cells": [
  {
   "cell_type": "code",
   "execution_count": 50,
   "id": "199e8d9a-ca8e-473d-b5ba-c69979f6cf27",
   "metadata": {},
   "outputs": [],
   "source": [
    "# import libraries\n",
    "from bs4 import BeautifulSoup\n",
    "import requests\n",
    "import smtplib\n",
    "import time\n",
    "import datetime"
   ]
  },
  {
   "cell_type": "code",
   "execution_count": 62,
   "id": "be997171-7d55-434b-8ca8-a771a731e4d4",
   "metadata": {},
   "outputs": [
    {
     "name": "stdout",
     "output_type": "stream",
     "text": [
      "\n",
      "           VEVOR Golf Hitting Mat\n",
      "          \n",
      "<span class=\"a-price-whole\">\n",
      "                      97\n",
      "                      <span class=\"a-price-decimal\">\n",
      "                       .\n",
      "                      </span>\n",
      "</span>\n",
      "<span class=\"a-price-fraction\">\n",
      "                      19\n",
      "                     </span>\n"
     ]
    }
   ],
   "source": [
    "# connect to website\n",
    "\n",
    "URL = 'https://www.amazon.com/VEVOR-Artificial-Thickened-Training-Practice/dp/B0DBL1MVZG/ref=rvi_d_sccl_5/142-3952305-6619914?pd_rd_w=TyU5K&content-id=amzn1.sym.f5690a4d-f2bb-45d9-9d1b-736fee412437&pf_rd_p=f5690a4d-f2bb-45d9-9d1b-736fee412437&pf_rd_r=FA4JVV3MPJRR4VKT6WJ1&pd_rd_wg=shujT&pd_rd_r=85190a97-4de8-40d1-9d2b-c929dfe79f83&pd_rd_i=B0DBL1MVZG&th=1'\n",
    "\n",
    "headers = {\"User-Agent\": \"Mozilla/5.0 (Windows NT 10.0; Win64; x64) AppleWebKit/537.36 (KHTML, like Gecko) Chrome/137.0.0.0 Safari/537.36\", \"Accept-Encoding\":\"gzip, deflate\", \"Accept\":\"text/html,application/xhtml+xml,application/xml;q=0.9,*/*;q=0.8\", \"DNT\":\"1\",\"Connection\":\"close\", \"Upgrade-Insecure-Requests\":\"1\"}\n",
    "\n",
    "page = requests.get(URL, headers=headers)\n",
    "\n",
    "soup1 = BeautifulSoup(page.content, \"html.parser\")\n",
    "\n",
    "soup2 = BeautifulSoup(soup1.prettify(), \"html.parser\")\n",
    "\n",
    "title = soup2.find(id='productTitle').get_text()\n",
    "\n",
    "whole = soup2.select_one(\".a-price-whole\")\n",
    "fraction = soup2.select_one(\".a-price-fraction\")\n",
    "\n",
    "    \n",
    "print(title)\n",
    "print(whole)\n",
    "print(fraction)"
   ]
  },
  {
   "cell_type": "code",
   "execution_count": 63,
   "id": "cc9b3995-120a-4fd7-b670-66f7dbb0393a",
   "metadata": {},
   "outputs": [
    {
     "name": "stdout",
     "output_type": "stream",
     "text": [
      "VEVOR Golf Hitting Mat\n",
      "97.19\n"
     ]
    }
   ],
   "source": [
    "# clean the data\n",
    "\n",
    "title = title.strip()\n",
    "whole_clean = ''.join(filter(str.isdigit, whole.text))\n",
    "fraction_clean = ''.join(filter(str.isdigit, fraction.text))\n",
    "    \n",
    "price_str = whole_clean + \".\" + fraction_clean\n",
    "price = float(price_str)\n",
    "\n",
    "\n",
    "print(title)\n",
    "print(price)"
   ]
  },
  {
   "cell_type": "code",
   "execution_count": 66,
   "id": "e9f80868-30d5-432b-8948-9e2bc8cf9b9a",
   "metadata": {},
   "outputs": [
    {
     "name": "stdout",
     "output_type": "stream",
     "text": [
      "2025-06-24\n"
     ]
    }
   ],
   "source": [
    "# Create a Timestamp for your output to track when data was collected\n",
    "\n",
    "today = datetime.date.today()\n",
    "print(today)"
   ]
  },
  {
   "cell_type": "code",
   "execution_count": 68,
   "id": "9e40ddd2-187d-4906-99b0-21ad6c11f65f",
   "metadata": {},
   "outputs": [],
   "source": [
    "# Create CSV and write headers and data into the file\n",
    "\n",
    "import csv\n",
    "\n",
    "header = ['Title','Price','Date']\n",
    "data = [title,price,today]\n",
    "\n",
    "with open('AmazonWebScraperDataset.csv', 'w', newline='', encoding='UTF8') as f:\n",
    "    writer=csv.writer(f)\n",
    "    writer.writerow(header)\n",
    "    writer.writerow(data)"
   ]
  },
  {
   "cell_type": "code",
   "execution_count": null,
   "id": "366cf9df-3775-4640-95e2-78fce73388c7",
   "metadata": {},
   "outputs": [],
   "source": [
    "import pandas as pd\n",
    "\n",
    "dc = pd.read_csv(r'c:\\users\\elder\\AmazonWebScraperDataset.csv')\n",
    "print(dc)"
   ]
  },
  {
   "cell_type": "code",
   "execution_count": 73,
   "id": "67b8b3d6-8ce4-4118-b6e4-4eb5a56a226c",
   "metadata": {},
   "outputs": [],
   "source": [
    "# Append data to the csv\n",
    "\n",
    "with open('AmazonWebScraperDataset.csv', 'a+', newline='', encoding='UTF8') as f:\n",
    "    writer = csv.writer(f)\n",
    "    writer.writerow(data)"
   ]
  },
  {
   "cell_type": "code",
   "execution_count": 72,
   "id": "256a9e9b-85d6-40ec-93e5-3f98a2fc1cef",
   "metadata": {},
   "outputs": [],
   "source": [
    "# Create a Function for Automation\n",
    "\n",
    "def price_checker():\n",
    "    URL = 'https://www.amazon.com/VEVOR-Artificial-Thickened-Training-Practice/dp/B0DBL1MVZG/ref=rvi_d_sccl_5/142-3952305-6619914?pd_rd_w=TyU5K&content-id=amzn1.sym.f5690a4d-f2bb-45d9-9d1b-736fee412437&pf_rd_p=f5690a4d-f2bb-45d9-9d1b-736fee412437&pf_rd_r=FA4JVV3MPJRR4VKT6WJ1&pd_rd_wg=shujT&pd_rd_r=85190a97-4de8-40d1-9d2b-c929dfe79f83&pd_rd_i=B0DBL1MVZG&th=1'\n",
    "    headers = {\"User-Agent\": \"Mozilla/5.0 (Windows NT 10.0; Win64; x64) AppleWebKit/537.36 (KHTML, like Gecko) Chrome/137.0.0.0 Safari/537.36\", \"Accept-Encoding\":\"gzip, deflate\", \"Accept\":\"text/html,application/xhtml+xml,application/xml;q=0.9,*/*;q=0.8\", \"DNT\":\"1\",\"Connection\":\"close\", \"Upgrade-Insecure-Requests\":\"1\"}\n",
    "    page = requests.get(URL, headers=headers)\n",
    "    soup1 = BeautifulSoup(page.content, \"html.parser\")\n",
    "    soup2 = BeautifulSoup(soup1.prettify(), \"html.parser\")\n",
    "    title = soup2.find(id='productTitle').get_text()\n",
    "    whole = soup2.select_one(\".a-price-whole\")\n",
    "    fraction = soup2.select_one(\".a-price-fraction\")\n",
    "    title = title.strip()\n",
    "    whole_clean = ''.join(filter(str.isdigit, whole.text))\n",
    "    fraction_clean = ''.join(filter(str.isdigit, fraction.text))\n",
    "    price_str = whole_clean + \".\" + fraction_clean\n",
    "    price = float(price_str)\n",
    "    today = datetime.date.today()\n",
    "    import csv\n",
    "    header = ['Title','Price','Date']\n",
    "    data = [title,price,today]\n",
    "    with open('AmazonWebScraperDataset.csv', 'a+', newline='', encoding='UTF8') as f:\n",
    "        writer = csv.writer(f)\n",
    "        writer.writerow(data)"
   ]
  },
  {
   "cell_type": "code",
   "execution_count": null,
   "id": "0844d05f-d3d0-4cf0-8c64-3206f6801785",
   "metadata": {},
   "outputs": [],
   "source": [
    "while(True):\n",
    "    price_checker()\n",
    "    time.sleep(86400) #check once a day\n",
    "    "
   ]
  },
  {
   "cell_type": "code",
   "execution_count": null,
   "id": "16ec9f1e-e596-469a-898c-bfe6bbe843a3",
   "metadata": {},
   "outputs": [],
   "source": []
  }
 ],
 "metadata": {
  "kernelspec": {
   "display_name": "Python 3 (ipykernel)",
   "language": "python",
   "name": "python3"
  },
  "language_info": {
   "codemirror_mode": {
    "name": "ipython",
    "version": 3
   },
   "file_extension": ".py",
   "mimetype": "text/x-python",
   "name": "python",
   "nbconvert_exporter": "python",
   "pygments_lexer": "ipython3",
   "version": "3.12.7"
  }
 },
 "nbformat": 4,
 "nbformat_minor": 5
}
